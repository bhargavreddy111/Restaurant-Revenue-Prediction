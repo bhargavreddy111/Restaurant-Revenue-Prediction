{
  "nbformat": 4,
  "nbformat_minor": 0,
  "metadata": {
    "colab": {
      "name": "Copy_of_Team_Assignment_1_Restaurants.ipynb",
      "provenance": [],
      "collapsed_sections": [],
      "include_colab_link": true
    },
    "kernelspec": {
      "name": "python3",
      "display_name": "Python 3"
    },
    "accelerator": "GPU"
  },
  "cells": [
    {
      "cell_type": "markdown",
      "metadata": {
        "id": "view-in-github",
        "colab_type": "text"
      },
      "source": [
        "<a href=\"https://colab.research.google.com/github/bhargavreddy111/Restaurant-Revenue-Prediction/blob/master/Restaurant%20Revenue%20Prediction.ipynb\" target=\"_parent\"><img src=\"https://colab.research.google.com/assets/colab-badge.svg\" alt=\"Open In Colab\"/></a>"
      ]
    },
    {
      "cell_type": "code",
      "metadata": {
        "id": "w1hDk9hDvOH7",
        "colab_type": "code",
        "colab": {}
      },
      "source": [
        "!pip install vecstack\n",
        "\n",
        "from vecstack import stacking\n",
        "import pandas as pd\n",
        "import numpy as np\n",
        "\n",
        "\n",
        "from sklearn.ensemble import RandomForestRegressor\n",
        "from sklearn.tree import DecisionTreeRegressor\n",
        "from sklearn.ensemble import GradientBoostingRegressor\n",
        "from sklearn.neural_network import MLPRegressor\n",
        "from sklearn.metrics import mean_squared_error\n",
        "from sklearn.model_selection import GridSearchCV\n",
        "from sklearn.model_selection import RandomizedSearchCV\n",
        "from sklearn.model_selection import cross_val_score\n",
        "from sklearn.svm import SVR\n",
        "from sklearn import linear_model\n",
        "\n",
        "import warnings\n",
        "warnings.filterwarnings(\"ignore\")\n",
        "\n",
        "from google.colab import drive\n",
        "drive.mount('/gdrive')\n",
        "#Change current working directory to gdrive\n",
        "%cd /gdrive\n",
        "\n"
      ],
      "execution_count": 0,
      "outputs": []
    },
    {
      "cell_type": "code",
      "metadata": {
        "id": "BMwGQK7KAd7T",
        "colab_type": "code",
        "outputId": "2ace243a-8841-4ab5-ef55-3cfb0f8298b3",
        "colab": {
          "base_uri": "https://localhost:8080/",
          "height": 51
        }
      },
      "source": [
        "#Extract training and test data\n",
        "trainfile = r'/gdrive/My Drive/Colab Notebooks/Restaurantprediction/train.csv'\n",
        "trainData = pd.read_csv(trainfile) #creates a dataframe\n",
        "testfile = r'/gdrive/My Drive/Colab Notebooks/Restaurantprediction/test.csv'\n",
        "testData = pd.read_csv(testfile)  #creates a dataframe\n",
        "\n",
        "\n",
        "print(trainData.shape)\n",
        "print(testData.shape)\n",
        "\n"
      ],
      "execution_count": 0,
      "outputs": [
        {
          "output_type": "stream",
          "text": [
            "(137, 43)\n",
            "(100000, 42)\n"
          ],
          "name": "stdout"
        }
      ]
    },
    {
      "cell_type": "code",
      "metadata": {
        "id": "rsymrxSFkZlH",
        "colab_type": "code",
        "colab": {}
      },
      "source": [
        "#check missing value\n",
        "print(trainData.isnull().any())"
      ],
      "execution_count": 0,
      "outputs": []
    },
    {
      "cell_type": "code",
      "metadata": {
        "id": "IZVKopaGh1Gq",
        "colab_type": "code",
        "colab": {}
      },
      "source": [
        "print(testData.isnull().any())"
      ],
      "execution_count": 0,
      "outputs": []
    },
    {
      "cell_type": "code",
      "metadata": {
        "id": "SWOTk6C1Ao45",
        "colab_type": "code",
        "outputId": "b693e2f5-4847-47fa-dcd4-fd95f81a68a2",
        "colab": {
          "base_uri": "https://localhost:8080/",
          "height": 51
        }
      },
      "source": [
        "#Dropping unneccesary columns\n",
        "y_train = trainData[\"revenue\"]\n",
        "X_train1 = trainData.drop([\"Id\", \"Open Date\", \"City\", \"revenue\"], axis=1) \n",
        "X_test1 = testData.drop([\"Id\", \"Open Date\", \"City\"], axis=1)\n",
        "\n",
        "\n",
        "print(X_train1.shape)\n",
        "print(X_test1.shape)\n",
        "X_train1.head()\n",
        "X_test1.head()"
      ],
      "execution_count": 0,
      "outputs": [
        {
          "output_type": "stream",
          "text": [
            "(137, 39)\n",
            "(100000, 39)\n"
          ],
          "name": "stdout"
        }
      ]
    },
    {
      "cell_type": "code",
      "metadata": {
        "id": "ZooehzhHFugO",
        "colab_type": "code",
        "colab": {}
      },
      "source": [
        "#selecting categorical features\n",
        "categoricalFeatures = [\"City Group\", \"Type\"]\n",
        "#Combine Train and test for one Hot Encoding\n",
        "combined_Data = pd.concat([X_train1, X_test1], keys=[0,1])\n",
        "#Do one Hot encoding for categorical features\n",
        "combined_Data = pd.get_dummies(combined_Data,columns=categoricalFeatures)\n",
        "#Separate Train data and test data\n",
        "X_train = combined_Data.xs(0)\n",
        "X_test = combined_Data.xs(1)\n",
        "\n",
        "X_test.head()\n",
        "X_train.head()"
      ],
      "execution_count": 0,
      "outputs": []
    },
    {
      "cell_type": "code",
      "metadata": {
        "id": "W3Qbocm_kNXr",
        "colab_type": "code",
        "colab": {}
      },
      "source": [
        "#getting ID column\n",
        "X_Test_id=testData[\"ID\"]"
      ],
      "execution_count": 0,
      "outputs": []
    },
    {
      "cell_type": "code",
      "metadata": {
        "id": "oWUKINWTUVJN",
        "colab_type": "code",
        "colab": {}
      },
      "source": [
        "#Decision Tree Regressor\n",
        "clf = DecisionTreeRegressor()\n",
        "clf.fit(X_train, y_train)\n",
        "clf_predict_Train=clf.predict(X_train)\n",
        "\n",
        "mean_squared_error(y_train,clf_predict_Train)\n",
        "print(\"RMSE:{0:10f}\".format(mean_squared_error(y_train,clf_predict_Train)))\n",
        "clf_predict =pd.DataFrame(clf.predict(X_test), columns=[\"Prediction\"])\n",
        "\n",
        "pd.concat([X_Test_id,clf_predict],axis=1).to_csv(\"/gdrive/My Drive/Restaurantprediction/Test_results1.csv\", index = None)\n",
        "\n",
        "res=pd.read_csv('/gdrive/My Drive/Restaurantprediction/Test_results1.csv')\n",
        "res.head()\n",
        "\n",
        "#Hyperparameter tuning done for decision tree classifier\n",
        "parameters={'max_depth': [5,30,20],'min_samples_split':[2,5,15],'random_state':[1,0],'min_samples_leaf':[2,5,8]}\n",
        "clf_random = RandomizedSearchCV(clf,parameters,n_iter=15)\n",
        "clf_random.fit(X_train, y_train)\n",
        "grid_parm=clf_random.best_params_\n",
        "print(grid_parm)\n",
        "\n",
        "#Using the parameters obtained from HyperParameterTuning in the DecisionTreeClassifier\n",
        "clf1 = DecisionTreeRegressor(**grid_parm)\n",
        "clf1.fit(X_train,y_train)\n",
        "clf_predict_Train1=clf1.predict(X_train)\n",
        "clf_predict1 =pd.DataFrame(clf1.predict(X_test), columns=[\"Prediction\"])\n",
        "\n",
        "pd.concat([X_Test_id,clf_predict1],axis=1).to_csv(\"/gdrive/My Drive/Restaurantprediction/Test_results2.csv\", index = None)\n",
        "\n",
        "res=pd.read_csv('/gdrive/My Drive/Restaurantprediction/Test_results2.csv')\n",
        "res.head()\n",
        "\n",
        "mean_squared_error(y_train,clf_predict_Train1)\n",
        "print(\"RMSE:{0:10f}\".format(mean_squared_error(y_train,clf_predict_Train1)))\n",
        "clf_predict_Test=clf1.predict(X_test)\n",
        "clf_cv_score = cross_val_score(clf1, X_train, y_train, cv=10)\n",
        "print(\"=== All AUC Scores ===\")\n",
        "print(clf_cv_score)\n",
        "print('\\n')\n",
        "print(\"=== Mean AUC Score ===\")\n",
        "print(\"Mean AUC Score - Decision Tree: \",clf_cv_score.mean())"
      ],
      "execution_count": 0,
      "outputs": []
    },
    {
      "cell_type": "code",
      "metadata": {
        "id": "3PvfF2iAUU2I",
        "colab_type": "code",
        "colab": {}
      },
      "source": [
        "#MLP Regressor\n",
        "mlp=MLPRegressor(hidden_layer_sizes =(1000,),activation='relu',max_iter=20000)\n",
        "mlp.fit(X_train,y_train)\n",
        "mlp_predict =pd.DataFrame(mlp.predict(X_test), columns=[\"Prediction\"])\n",
        "\n",
        "pd.concat([X_Test_id,mlp_predict],axis=1).to_csv(\"/gdrive/My Drive/Restaurantprediction/Test_results3.csv\", index = None)\n",
        "\n",
        "res=pd.read_csv('/gdrive/My Drive/Restaurantprediction/Test_results3.csv')\n",
        "res.head()"
      ],
      "execution_count": 0,
      "outputs": []
    },
    {
      "cell_type": "code",
      "metadata": {
        "id": "9Bf0NpzDQwb_",
        "colab_type": "code",
        "colab": {}
      },
      "source": [
        "#MLP Regressor with hyperparameter tuning\n",
        "mlp_parameters={'hidden_layer_sizes':[1000,200,500],'max_iter': [20000, 10000],'activation': ['relu', 'logistic']}\n",
        "mlp1 = MLPRegressor()\n",
        "#RANDOMIZED SEARCH----------------------------------------\n",
        "mlp1_random = RandomizedSearchCV(mlp1,mlp_parameters,n_iter=10,cv=5)\n",
        "mlp1_random.fit(X_train, y_train)\n",
        "grid_parm_mlp1=mlp1_random.best_params_\n",
        "print(grid_parm_mlp1)"
      ],
      "execution_count": 0,
      "outputs": []
    },
    {
      "cell_type": "code",
      "metadata": {
        "id": "9Y8n3Xu8TmY0",
        "colab_type": "code",
        "colab": {}
      },
      "source": [
        "mlp1= MLPRegressor(**grid_parm_mlp1)\n",
        "mlp1.fit(X_train,y_train)\n",
        "mlp1_predict_Train=mlp1.predict(X_train)\n",
        "mlp1_predict = pd.DataFrame(mlp1.predict(X_test),columns=[\"Prediction\"])\n",
        "\n",
        "#run cross-validation on best hyperparameters, get auc score\n",
        "mlp_cv_score = cross_val_score(mlp1, X_train, y_train, cv=5)\n",
        "print(\"=== All AUC Scores ===\")\n",
        "print(mlp_cv_score)\n",
        "print('\\n')\n",
        "print(\"=== Mean AUC Score ===\")\n",
        "print(\"Mean AUC Score - Decision Tree: \",mlp_cv_score.mean())\n",
        "\n",
        "pd.concat([X_Test_id,mlp1_predict],axis=1).to_csv(\"/gdrive/My Drive/Restaurantprediction/Test_resultsmh.csv\", index = None)\n",
        "\n",
        "res=pd.read_csv('/gdrive/My Drive/Restaurantprediction/Test_resultsmh.csv')\n",
        "res.head()"
      ],
      "execution_count": 0,
      "outputs": []
    },
    {
      "cell_type": "code",
      "metadata": {
        "id": "7EzPm6cLwPPC",
        "colab_type": "code",
        "colab": {}
      },
      "source": [
        "#Support Vector Regressor\n",
        "svr=SVR(C=1.0, kernel='rbf', degree=3)\n",
        "svr.fit(X_train,y_train)\n",
        "svr_predict =pd.DataFrame(svr.predict(X_test), columns=[\"Prediction\"])\n",
        "pd.concat([X_Test_id,svr_predict],axis=1).to_csv(\"/gdrive/My Drive/Restaurantprediction/Test_results4.csv\", index = None)\n",
        "\n",
        "res=pd.read_csv('/gdrive/My Drive/Restaurantprediction/Test_results4.csv')\n",
        "res.head()\n"
      ],
      "execution_count": 0,
      "outputs": []
    },
    {
      "cell_type": "code",
      "metadata": {
        "id": "AeU_X1YHJGDp",
        "colab_type": "code",
        "colab": {}
      },
      "source": [
        "#Hyperparameter tuning done for SVR Regressor\n",
        "parameters={'kernel': ['linear', 'rbf', 'sigmoid'],'degree': range(1,10,1), 'max_iter': range(1,100,10)}\n",
        "\n",
        "#do grid search with cross-validation\n",
        "svr_grid = GridSearchCV(svr,parameters)\n",
        "svr_grid.fit(X_train, y_train)\n",
        "grid_parm_svr=svr_grid.best_params_\n",
        "print(grid_parm_svr)\n",
        "\n",
        "svr = SVR(**grid_parm_svr)\n",
        "svr.fit(X_train,y_train)\n",
        "svr_predict = svr.predict(X_test)\n",
        "pred6 = pd.DataFrame(svr.predict(X_test),columns=[\"Prediction\"])\n",
        "\n",
        "pd.concat([X_Test_id,pred6],axis=1).to_csv(\"/gdrive/My Drive/Colab Notebooks/Restaurantprediction 1/results_SVR_HT.csv\", index = None)\n",
        "\n",
        "res1=pd.read_csv('/gdrive/My Drive/Colab Notebooks/Restaurantprediction 1/results_SVR_HT.csv')\n",
        "\n",
        "#run cross-validation on best hyperparameters, get auc score\n",
        "clf_cv_score = cross_val_score(svr, X_train, y_train, cv=10)\n",
        "print(\"=== All AUC Scores ===\")\n",
        "print(clf_cv_score)\n",
        "print('\\n')\n",
        "print(\"=== Mean AUC Score ===\")\n",
        "print(\"Mean AUC Score - Decision Tree: \",clf_cv_score.mean())"
      ],
      "execution_count": 0,
      "outputs": []
    },
    {
      "cell_type": "code",
      "metadata": {
        "id": "sWNJ4EwNJTzi",
        "colab_type": "code",
        "colab": {}
      },
      "source": [
        "# RANDOM FOREST REGRESSOR\n",
        "rfc = RandomForestRegressor()\n",
        "rfc.fit(X_train, y_train)\n",
        "rfc_predict_Train=rfc.predict(X_train)\n",
        "\n",
        "mean_squared_error(y_train,rfc_predict_Train)\n",
        "print(\"RMSE (training) for Decision Tree:{0:10f}\".format(mean_squared_error(y_train,rfc_predict_Train)))\n",
        "rfc_predict_Test=rfc.predict(X_test)\n",
        "\n",
        "pred2 = pd.DataFrame(rfc.predict(X_test),columns=[\"Prediction\"])\n",
        "\n",
        "pd.concat([X_Test_id,pred2],axis=1).to_csv(\"/gdrive/My Drive/Colab Notebooks/Restaurantprediction/results_RFR.csv\", index = None)\n",
        "\n",
        "res=pd.read_csv('/gdrive/My Drive/Colab Notebooks/Restaurantprediction/results_RFR.csv')"
      ],
      "execution_count": 0,
      "outputs": []
    },
    {
      "cell_type": "code",
      "metadata": {
        "id": "_gLiPqMaJdFq",
        "colab_type": "code",
        "colab": {}
      },
      "source": [
        "#Hyperparameter tuning done for RFR\n",
        "parameters={'min_samples_leaf' : range(10,100,10),'max_depth': range(1,40,2),'max_features':[2,3,4],'min_samples_split': [8, 10, 12],'n_estimators':[20,30,40]}\n",
        "\n",
        "#do grid search with cross-validation\n",
        "rfc_grid = GridSearchCV(rfc,parameters)\n",
        "rfc_grid.fit(X_train, y_train)\n",
        "grid_parm_rfc1=rfc_grid.best_params_\n",
        "print(grid_parm_rfc1)\n",
        "\n",
        "rfr1 = RandomForestRegressor(**grid_parm_rfc1)\n",
        "rfr1.fit(X_train,y_train)\n",
        "rfr1_predict = rfr1.predict(X_test)\n",
        "pred1 = pd.DataFrame(rfr1.predict(X_test),columns=[\"Prediction\"])\n",
        "\n",
        "pd.concat([X_Test_id,pred1],axis=1).to_csv(\"/gdrive/My Drive/Colab Notebooks/Restaurantprediction 1/results_RFR_HT.csv\", index = None)\n",
        "\n",
        "res1=pd.read_csv('/gdrive/My Drive/Colab Notebooks/Restaurantprediction/results_RFR_HT.csv')\n",
        "\n",
        "#run cross-validation on best hyperparameters, get auc score\n",
        "clf_cv_score = cross_val_score(rfc, X_train, y_train, cv=10)\n",
        "print(\"=== All AUC Scores ===\")\n",
        "print(clf_cv_score)\n",
        "print('\\n')\n",
        "print(\"=== Mean AUC Score ===\")\n",
        "print(\"Mean AUC Score - Decision Tree: \",clf_cv_score.mean())"
      ],
      "execution_count": 0,
      "outputs": []
    },
    {
      "cell_type": "code",
      "metadata": {
        "id": "S0sa0x37J5iH",
        "colab_type": "code",
        "colab": {}
      },
      "source": [
        "#Default Gradient Descent Regressor\n",
        "reg = linear_model.SGDRegressor()\n",
        "reg.fit(X_train, y_train)\n",
        "reg_predict_Train=reg.predict(X_train)\n",
        "\n",
        "mean_squared_error(y_train,reg_predict_Train)\n",
        "print(\"RMSE (training) for Decision Tree:{0:10f}\".format(mean_squared_error(y_train,reg_predict_Train)))\n",
        "reg_predict_Test=reg.predict(X_test)\n",
        "\n",
        "pred7 = pd.DataFrame(reg.predict(X_test),columns=[\"Prediction\"])\n",
        "\n",
        "pd.concat([X_Test_id,pred7],axis=1).to_csv(\"/gdrive/My Drive/Colab Notebooks/Restaurantprediction/results_SGDR.csv\", index = None)\n",
        "\n",
        "res=pd.read_csv('/gdrive/My Drive/Colab Notebooks/Restaurantprediction/results_SGDR.csv')"
      ],
      "execution_count": 0,
      "outputs": []
    },
    {
      "cell_type": "code",
      "metadata": {
        "id": "8teoxy2JJ803",
        "colab_type": "code",
        "colab": {}
      },
      "source": [
        "#Hyperparameter tuning done for Gradient Regressor\n",
        "parameters={'early_stopping': [True],'learning_rate': ['constant','adaptive','optimal','invscaling'], 'max_iter': range(100,1500,100)}\n",
        "\n",
        "#do grid search with cross-validation\n",
        "reg_grid = GridSearchCV(reg,parameters)\n",
        "reg_grid.fit(X_train, y_train)\n",
        "grid_parm_reg=reg_grid.best_params_\n",
        "print(grid_parm_reg)\n",
        "\n",
        "reg = linear_model.SGDRegressor(**grid_parm_reg)\n",
        "reg.fit(X_train,y_train)\n",
        "reg_predict = reg.predict(X_test)\n",
        "pred8 = pd.DataFrame(reg.predict(X_test),columns=[\"Prediction\"])\n",
        "\n",
        "pd.concat([X_Test_id,pred8],axis=1).to_csv(\"/gdrive/My Drive/Colab Notebooks/Restaurantprediction/results_SGDR_HT.csv\", index = None)\n",
        "\n",
        "res1=pd.read_csv('/gdrive/My Drive/Colab Notebooks/Restaurantprediction/results_SGDR_HT.csv')\n",
        "\n",
        "#run cross-validation on best hyperparameters, get auc score\n",
        "clf_cv_score = cross_val_score(reg, X_train, y_train, cv=10)\n",
        "print(\"=== All AUC Scores ===\")\n",
        "print(clf_cv_score)\n",
        "print('\\n')\n",
        "print(\"=== Mean AUC Score ===\")\n",
        "print(\"Mean AUC Score - Decision Tree: \",clf_cv_score.mean())"
      ],
      "execution_count": 0,
      "outputs": []
    },
    {
      "cell_type": "code",
      "metadata": {
        "id": "8Z4tiVhgTznz",
        "colab_type": "code",
        "colab": {}
      },
      "source": [
        "#Gradient Boosting Regressor\n",
        "abc =GradientBoostingRegressor()\n",
        "abc.fit(X_train, y_train)\n",
        "abc_predict_Train=abc.predict(X_train)\n",
        "\n",
        "mean_squared_error(y_train,abc_predict_Train)\n",
        "print(\"RMSE (training) for Decision Tree:{0:10f}\".format(mean_squared_error(y_train,abc_predict_Train)))\n",
        "abc_predict_Test=abc.predict(X_test)\n",
        "\n",
        "pred9 = pd.DataFrame(abc.predict(X_test),columns=[\"Prediction\"])\n",
        "\n",
        "pd.concat([X_Test_id,pred9],axis=1).to_csv(\"/gdrive/My Drive/Colab Notebooks/Restaurantprediction/results_GBR.csv\", index = None)\n",
        "\n",
        "res=pd.read_csv('/gdrive/My Drive/Colab Notebooks/Restaurantprediction/results_GBR.csv’)\n",
        "\n",
        "#Hyperparameter tuning done for Gradient Regressor\n",
        "parameters={'n_estimators': range(50,100,10),'learning_rate': [0.1,0.2]}\n",
        "\n",
        "#do grid search with cross-validation\n",
        "abc_grid = GridSearchCV(abc,parameters)\n",
        "abc_grid.fit(X_train, y_train)\n",
        "grid_parm_abc=abc_grid.best_params_\n",
        "print(grid_parm_abc)\n",
        "\n",
        "abc = GradientBoostingRegressor(**grid_parm_abc)\n",
        "abc.fit(X_train,y_train)\n",
        "abc_predict = abc.predict(X_test)\n",
        "pred10 = pd.DataFrame(abc.predict(X_test),columns=[\"Prediction\"])\n",
        "\n",
        "pd.concat([X_Test_id,pred10],axis=1).to_csv(\"/gdrive/My Drive/Colab Notebooks/Restaurantprediction/results_GBR_HT.csv\", index = None)\n",
        "\n",
        "res1=pd.read_csv('/gdrive/My Drive/Colab Notebooks/Restaurantprediction/results_GBR_HT.csv')\n",
        "\n",
        "#run cross-validation on best hyperparameters, get auc score\n",
        "clf_cv_score = cross_val_score(abc, X_train, y_train, cv=10)\n",
        "print(\"=== All AUC Scores ===\")\n",
        "print(clf_cv_score)\n",
        "print('\\n')\n",
        "print(\"=== Mean AUC Score ===\")\n",
        "print(\"Mean AUC Score - Decision Tree: \",clf_cv_score.mean())"
      ],
      "execution_count": 0,
      "outputs": []
    },
    {
      "cell_type": "code",
      "metadata": {
        "id": "5eesj_dnzuyw",
        "colab_type": "code",
        "outputId": "edc4c42d-a486-45d6-a9c7-98f00b4f3541",
        "colab": {
          "base_uri": "https://localhost:8080/",
          "height": 612
        }
      },
      "source": [
        "#STACKING MODELS =====================================================================\n",
        "print(\"___________________________________________________________________________________________\\nEnsemble Methods Predictions using GradientBoosting, RandomForest and Decision Tree Classifier\\n\")\n",
        "\n",
        "models = [ SVR(kernel='sigmoid',epsilon=0.01), \n",
        "          RandomForestRegressor(max_depth = 7,max_features= 4,min_samples_leaf = 10, min_samples_split= 12,n_estimators= 20), \n",
        "          DecisionTreeRegressor(max_depth=3,min_samples_split=90) ]\n",
        "      \n",
        "S_Train, S_Test = stacking(models,                   \n",
        "                           X_train, y_train, X_test,   \n",
        "                           regression=True, \n",
        "     \n",
        "                           mode='oof_pred_bag', \n",
        "       \n",
        "                           needs_proba=False,\n",
        "         \n",
        "                           save_dir=None, \n",
        "                                        \n",
        "                           n_folds=4, \n",
        "                                                    \n",
        "                           verbose=2)\n",
        "\n"
      ],
      "execution_count": 0,
      "outputs": [
        {
          "output_type": "stream",
          "text": [
            "___________________________________________________________________________________________\n",
            "Ensemble Methods Predictions using GradientBoosting, RandomForest and Decision Tree Classifier\n",
            "\n",
            "task:         [regression]\n",
            "metric:       [mean_absolute_error]\n",
            "mode:         [oof_pred_bag]\n",
            "n_models:     [3]\n",
            "\n",
            "model  0:     [SVR]\n",
            "    fold  0:  [1838705.94338269]\n",
            "    fold  1:  [1370367.85300829]\n",
            "    fold  2:  [1977308.32380417]\n",
            "    fold  3:  [1231245.82394656]\n",
            "    ----\n",
            "    MEAN:     [1604406.98603543] + [311438.18720708]\n",
            "    FULL:     [1606117.19740293]\n",
            "\n",
            "model  1:     [RandomForestRegressor]\n",
            "    fold  0:  [1863942.99993295]\n",
            "    fold  1:  [1530604.03139794]\n",
            "    fold  2:  [1952219.04085066]\n",
            "    fold  3:  [1379466.05369821]\n",
            "    ----\n",
            "    MEAN:     [1681558.03146994] + [234823.51452315]\n",
            "    FULL:     [1682889.30861200]\n",
            "\n",
            "model  2:     [DecisionTreeRegressor]\n",
            "    fold  0:  [1933023.13724896]\n",
            "    fold  1:  [1716339.54114305]\n",
            "    fold  2:  [1965478.05306838]\n",
            "    fold  3:  [1780241.53757136]\n",
            "    ----\n",
            "    MEAN:     [1848770.56725794] + [103625.93471462]\n",
            "    FULL:     [1849385.54952064]\n",
            "\n"
          ],
          "name": "stdout"
        }
      ]
    },
    {
      "cell_type": "code",
      "metadata": {
        "id": "hta7gAVZz7aT",
        "colab_type": "code",
        "colab": {}
      },
      "source": [
        "model = RandomForestRegressor(max_depth = 7,min_samples_leaf = 10, min_samples_split= 12,n_estimators= 20)\n",
        "model = model.fit(S_Train, y_train)\n",
        "y_pred_train = model.predict(S_Train)\n",
        "y_pred_test = model.predict(S_Test)"
      ],
      "execution_count": 0,
      "outputs": []
    },
    {
      "cell_type": "code",
      "metadata": {
        "id": "DTEC320i0A8H",
        "colab_type": "code",
        "colab": {}
      },
      "source": [
        "#Save predictions\n",
        "preds = pd.DataFrame(model.predict(S_Test),columns=[\"Prediction\"])\n",
        "\n",
        "pd.concat([X_Test_id,preds],axis=1).to_csv(\"/gdrive/My Drive/Colab Notebooks/Restaurantprediction/results_ST.csv\", index = None)\n",
        "\n",
        "res1=pd.read_csv('/gdrive/My Drive/Colab Notebooks/Restaurantprediction/results_ST.csv')"
      ],
      "execution_count": 0,
      "outputs": []
    },
    {
      "cell_type": "code",
      "metadata": {
        "id": "TYIBvPGF0HhP",
        "colab_type": "code",
        "colab": {}
      },
      "source": [
        "#Hyperparameter tuning done for stacked model\n",
        "parameters={'min_samples_leaf' : range(10,100,10),'max_depth': range(1,40,2),'max_features': range(2,4,1) ,'min_samples_split': [8, 10, 12],'n_estimators':[20,30,40]}\n",
        "\n",
        "#do grid search with cross-validation\n",
        "st_grid = GridSearchCV(model,parameters)\n",
        "st_grid.fit(S_Train, y_train)\n",
        "grid_parm_st=st_grid.best_params_\n",
        "print(grid_parm_st)\n",
        "\n",
        "st = RandomForestRegressor(**grid_parm_st)\n",
        "st.fit(S_Train,y_train)\n",
        "st_predict = st.predict(S_Test)\n",
        "predst = pd.DataFrame(st.predict(S_Test),columns=[\"Prediction\"])\n",
        "\n",
        "pd.concat([X_Test_id,predst],axis=1).to_csv(\"/gdrive/My Drive/Colab Notebooks/Restaurantprediction/results_ST_HT.csv\", index = None)\n",
        "\n",
        "res1=pd.read_csv('/gdrive/My Drive/Colab Notebooks/Restaurantprediction/results_ST_HT.csv')\n",
        "\n",
        "#run cross-validation on best hyperparameters, get Auc score\n",
        "clf_cv_score = cross_val_score(model, S_Train, y_train, cv=10)\n",
        "print(\"=== All AUC Scores ===\")\n",
        "print(clf_cv_score)\n",
        "print('\\n')\n",
        "print(\"=== Mean AUC Score ===\")\n",
        "print(\"Mean AUC Score - Decision Tree: \",clf_cv_score.mean())"
      ],
      "execution_count": 0,
      "outputs": []
    }
  ]
}
